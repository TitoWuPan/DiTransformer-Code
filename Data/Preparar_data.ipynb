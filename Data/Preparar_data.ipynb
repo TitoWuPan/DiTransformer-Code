{
 "cells": [
  {
   "cell_type": "code",
   "execution_count": 1,
   "metadata": {},
   "outputs": [],
   "source": [
    "import pandas as pd\n",
    "import os\n",
    "import shutil\n",
    "import re"
   ]
  },
  {
   "cell_type": "code",
   "execution_count": 2,
   "metadata": {},
   "outputs": [],
   "source": [
    "df = pd.read_csv('code_blocks.csv')\n",
    "vertice_id = pd.read_csv('data_with_preds.csv')\n",
    "vertice_name = pd.read_csv('vertices.csv')"
   ]
  },
  {
   "cell_type": "code",
   "execution_count": 4,
   "metadata": {},
   "outputs": [
    {
     "name": "stdout",
     "output_type": "stream",
     "text": [
      "<class 'pandas.core.frame.DataFrame'>\n",
      "RangeIndex: 2599353 entries, 0 to 2599352\n",
      "Data columns (total 4 columns):\n",
      " #   Column             Dtype \n",
      "---  ------             ----- \n",
      " 0   code_blocks_index  int64 \n",
      " 1   kernel_id          int64 \n",
      " 2   code_block_id      int64 \n",
      " 3   code_block         object\n",
      "dtypes: int64(3), object(1)\n",
      "memory usage: 79.3+ MB\n"
     ]
    }
   ],
   "source": [
    "df.info()"
   ]
  },
  {
   "cell_type": "code",
   "execution_count": 5,
   "metadata": {},
   "outputs": [
    {
     "name": "stdout",
     "output_type": "stream",
     "text": [
      "<class 'pandas.core.frame.DataFrame'>\n",
      "RangeIndex: 2599353 entries, 0 to 2599352\n",
      "Data columns (total 3 columns):\n",
      " #   Column                               Dtype  \n",
      "---  ------                               -----  \n",
      " 0   code_blocks_index                    int64  \n",
      " 1   predicted_graph_vertex_id            int64  \n",
      " 2   predicted_graph_vertex__probability  float64\n",
      "dtypes: float64(1), int64(2)\n",
      "memory usage: 59.5 MB\n"
     ]
    }
   ],
   "source": [
    "vertice_id.info()"
   ]
  },
  {
   "cell_type": "code",
   "execution_count": 6,
   "metadata": {},
   "outputs": [
    {
     "name": "stdout",
     "output_type": "stream",
     "text": [
      "<class 'pandas.core.frame.DataFrame'>\n",
      "RangeIndex: 75 entries, 0 to 74\n",
      "Data columns (total 3 columns):\n",
      " #   Column                 Non-Null Count  Dtype \n",
      "---  ------                 --------------  ----- \n",
      " 0   graph_vertex_id        75 non-null     int64 \n",
      " 1   graph_vertex_class     75 non-null     object\n",
      " 2   graph_vertex_subclass  75 non-null     object\n",
      "dtypes: int64(1), object(2)\n",
      "memory usage: 1.9+ KB\n"
     ]
    }
   ],
   "source": [
    "vertice_name.info()"
   ]
  },
  {
   "cell_type": "code",
   "execution_count": 3,
   "metadata": {},
   "outputs": [],
   "source": [
    "df_agrupado = pd.merge(df, vertice_id, on='code_blocks_index')"
   ]
  },
  {
   "cell_type": "code",
   "execution_count": 4,
   "metadata": {},
   "outputs": [
    {
     "name": "stdout",
     "output_type": "stream",
     "text": [
      "<class 'pandas.core.frame.DataFrame'>\n",
      "RangeIndex: 2599353 entries, 0 to 2599352\n",
      "Data columns (total 6 columns):\n",
      " #   Column                               Dtype  \n",
      "---  ------                               -----  \n",
      " 0   code_blocks_index                    int64  \n",
      " 1   kernel_id                            int64  \n",
      " 2   code_block_id                        int64  \n",
      " 3   code_block                           object \n",
      " 4   predicted_graph_vertex_id            int64  \n",
      " 5   predicted_graph_vertex__probability  float64\n",
      "dtypes: float64(1), int64(4), object(1)\n",
      "memory usage: 119.0+ MB\n"
     ]
    }
   ],
   "source": [
    "df_agrupado.info()"
   ]
  },
  {
   "cell_type": "code",
   "execution_count": 9,
   "metadata": {},
   "outputs": [
    {
     "data": {
      "text/html": [
       "<div>\n",
       "<style scoped>\n",
       "    .dataframe tbody tr th:only-of-type {\n",
       "        vertical-align: middle;\n",
       "    }\n",
       "\n",
       "    .dataframe tbody tr th {\n",
       "        vertical-align: top;\n",
       "    }\n",
       "\n",
       "    .dataframe thead th {\n",
       "        text-align: right;\n",
       "    }\n",
       "</style>\n",
       "<table border=\"1\" class=\"dataframe\">\n",
       "  <thead>\n",
       "    <tr style=\"text-align: right;\">\n",
       "      <th></th>\n",
       "      <th>code_blocks_index</th>\n",
       "      <th>kernel_id</th>\n",
       "      <th>code_block_id</th>\n",
       "      <th>code_block</th>\n",
       "      <th>predicted_graph_vertex_id</th>\n",
       "      <th>predicted_graph_vertex__probability</th>\n",
       "    </tr>\n",
       "  </thead>\n",
       "  <tbody>\n",
       "    <tr>\n",
       "      <th>0</th>\n",
       "      <td>0</td>\n",
       "      <td>17493583</td>\n",
       "      <td>0</td>\n",
       "      <td># This Python 3 environment comes with many he...</td>\n",
       "      <td>88</td>\n",
       "      <td>0.999266</td>\n",
       "    </tr>\n",
       "    <tr>\n",
       "      <th>1</th>\n",
       "      <td>1</td>\n",
       "      <td>17493583</td>\n",
       "      <td>1</td>\n",
       "      <td>import os\\nimport zipfile\\nfrom subprocess imp...</td>\n",
       "      <td>30</td>\n",
       "      <td>0.992092</td>\n",
       "    </tr>\n",
       "    <tr>\n",
       "      <th>2</th>\n",
       "      <td>2</td>\n",
       "      <td>17493583</td>\n",
       "      <td>2</td>\n",
       "      <td>def reduce_mem_usage(df):\\n    \"\"\" iterate thr...</td>\n",
       "      <td>40</td>\n",
       "      <td>0.965598</td>\n",
       "    </tr>\n",
       "    <tr>\n",
       "      <th>3</th>\n",
       "      <td>3</td>\n",
       "      <td>17493583</td>\n",
       "      <td>3</td>\n",
       "      <td>import numpy as np</td>\n",
       "      <td>22</td>\n",
       "      <td>0.999338</td>\n",
       "    </tr>\n",
       "    <tr>\n",
       "      <th>4</th>\n",
       "      <td>4</td>\n",
       "      <td>17493583</td>\n",
       "      <td>4</td>\n",
       "      <td>orders_df = reduce_mem_usage(pd.read_csv('../w...</td>\n",
       "      <td>45</td>\n",
       "      <td>0.999198</td>\n",
       "    </tr>\n",
       "  </tbody>\n",
       "</table>\n",
       "</div>"
      ],
      "text/plain": [
       "   code_blocks_index  kernel_id  code_block_id  \\\n",
       "0                  0   17493583              0   \n",
       "1                  1   17493583              1   \n",
       "2                  2   17493583              2   \n",
       "3                  3   17493583              3   \n",
       "4                  4   17493583              4   \n",
       "\n",
       "                                          code_block  \\\n",
       "0  # This Python 3 environment comes with many he...   \n",
       "1  import os\\nimport zipfile\\nfrom subprocess imp...   \n",
       "2  def reduce_mem_usage(df):\\n    \"\"\" iterate thr...   \n",
       "3                                 import numpy as np   \n",
       "4  orders_df = reduce_mem_usage(pd.read_csv('../w...   \n",
       "\n",
       "   predicted_graph_vertex_id  predicted_graph_vertex__probability  \n",
       "0                         88                             0.999266  \n",
       "1                         30                             0.992092  \n",
       "2                         40                             0.965598  \n",
       "3                         22                             0.999338  \n",
       "4                         45                             0.999198  "
      ]
     },
     "execution_count": 9,
     "metadata": {},
     "output_type": "execute_result"
    }
   ],
   "source": [
    "df_agrupado.head()"
   ]
  },
  {
   "cell_type": "code",
   "execution_count": 5,
   "metadata": {},
   "outputs": [],
   "source": [
    "df_agrupado = df_agrupado[['code_block', 'predicted_graph_vertex_id']]"
   ]
  },
  {
   "cell_type": "code",
   "execution_count": 11,
   "metadata": {},
   "outputs": [
    {
     "name": "stdout",
     "output_type": "stream",
     "text": [
      "<class 'pandas.core.frame.DataFrame'>\n",
      "RangeIndex: 2599353 entries, 0 to 2599352\n",
      "Data columns (total 2 columns):\n",
      " #   Column                     Dtype \n",
      "---  ------                     ----- \n",
      " 0   code_block                 object\n",
      " 1   predicted_graph_vertex_id  int64 \n",
      "dtypes: int64(1), object(1)\n",
      "memory usage: 39.7+ MB\n"
     ]
    }
   ],
   "source": [
    "df_agrupado.info()"
   ]
  },
  {
   "cell_type": "code",
   "execution_count": 6,
   "metadata": {},
   "outputs": [
    {
     "data": {
      "text/html": [
       "<div>\n",
       "<style scoped>\n",
       "    .dataframe tbody tr th:only-of-type {\n",
       "        vertical-align: middle;\n",
       "    }\n",
       "\n",
       "    .dataframe tbody tr th {\n",
       "        vertical-align: top;\n",
       "    }\n",
       "\n",
       "    .dataframe thead th {\n",
       "        text-align: right;\n",
       "    }\n",
       "</style>\n",
       "<table border=\"1\" class=\"dataframe\">\n",
       "  <thead>\n",
       "    <tr style=\"text-align: right;\">\n",
       "      <th></th>\n",
       "      <th>code_block</th>\n",
       "      <th>predicted_graph_vertex_id</th>\n",
       "    </tr>\n",
       "  </thead>\n",
       "  <tbody>\n",
       "    <tr>\n",
       "      <th>0</th>\n",
       "      <td># This Python 3 environment comes with many he...</td>\n",
       "      <td>88</td>\n",
       "    </tr>\n",
       "    <tr>\n",
       "      <th>1</th>\n",
       "      <td>import os\\nimport zipfile\\nfrom subprocess imp...</td>\n",
       "      <td>30</td>\n",
       "    </tr>\n",
       "    <tr>\n",
       "      <th>2</th>\n",
       "      <td>def reduce_mem_usage(df):\\n    \"\"\" iterate thr...</td>\n",
       "      <td>40</td>\n",
       "    </tr>\n",
       "    <tr>\n",
       "      <th>3</th>\n",
       "      <td>import numpy as np</td>\n",
       "      <td>22</td>\n",
       "    </tr>\n",
       "    <tr>\n",
       "      <th>4</th>\n",
       "      <td>orders_df = reduce_mem_usage(pd.read_csv('../w...</td>\n",
       "      <td>45</td>\n",
       "    </tr>\n",
       "  </tbody>\n",
       "</table>\n",
       "</div>"
      ],
      "text/plain": [
       "                                          code_block  \\\n",
       "0  # This Python 3 environment comes with many he...   \n",
       "1  import os\\nimport zipfile\\nfrom subprocess imp...   \n",
       "2  def reduce_mem_usage(df):\\n    \"\"\" iterate thr...   \n",
       "3                                 import numpy as np   \n",
       "4  orders_df = reduce_mem_usage(pd.read_csv('../w...   \n",
       "\n",
       "   predicted_graph_vertex_id  \n",
       "0                         88  \n",
       "1                         30  \n",
       "2                         40  \n",
       "3                         22  \n",
       "4                         45  "
      ]
     },
     "execution_count": 6,
     "metadata": {},
     "output_type": "execute_result"
    }
   ],
   "source": [
    "df_agrupado.head()"
   ]
  },
  {
   "cell_type": "code",
   "execution_count": 7,
   "metadata": {},
   "outputs": [],
   "source": [
    "df_agrupado = pd.merge(df_agrupado, vertice_name, left_on='predicted_graph_vertex_id', right_on='graph_vertex_id')"
   ]
  },
  {
   "cell_type": "code",
   "execution_count": 15,
   "metadata": {},
   "outputs": [
    {
     "name": "stdout",
     "output_type": "stream",
     "text": [
      "<class 'pandas.core.frame.DataFrame'>\n",
      "RangeIndex: 2599353 entries, 0 to 2599352\n",
      "Data columns (total 5 columns):\n",
      " #   Column                     Dtype \n",
      "---  ------                     ----- \n",
      " 0   code_block                 object\n",
      " 1   predicted_graph_vertex_id  int64 \n",
      " 2   graph_vertex_id            int64 \n",
      " 3   graph_vertex_class         object\n",
      " 4   graph_vertex_subclass      object\n",
      "dtypes: int64(2), object(3)\n",
      "memory usage: 99.2+ MB\n"
     ]
    }
   ],
   "source": [
    "df_agrupado.info()"
   ]
  },
  {
   "cell_type": "code",
   "execution_count": 16,
   "metadata": {},
   "outputs": [
    {
     "data": {
      "text/html": [
       "<div>\n",
       "<style scoped>\n",
       "    .dataframe tbody tr th:only-of-type {\n",
       "        vertical-align: middle;\n",
       "    }\n",
       "\n",
       "    .dataframe tbody tr th {\n",
       "        vertical-align: top;\n",
       "    }\n",
       "\n",
       "    .dataframe thead th {\n",
       "        text-align: right;\n",
       "    }\n",
       "</style>\n",
       "<table border=\"1\" class=\"dataframe\">\n",
       "  <thead>\n",
       "    <tr style=\"text-align: right;\">\n",
       "      <th></th>\n",
       "      <th>code_block</th>\n",
       "      <th>predicted_graph_vertex_id</th>\n",
       "      <th>graph_vertex_id</th>\n",
       "      <th>graph_vertex_class</th>\n",
       "      <th>graph_vertex_subclass</th>\n",
       "    </tr>\n",
       "  </thead>\n",
       "  <tbody>\n",
       "    <tr>\n",
       "      <th>0</th>\n",
       "      <td># This Python 3 environment comes with many he...</td>\n",
       "      <td>88</td>\n",
       "      <td>88</td>\n",
       "      <td>Debug</td>\n",
       "      <td>list_files</td>\n",
       "    </tr>\n",
       "    <tr>\n",
       "      <th>1</th>\n",
       "      <td>import os\\nimport zipfile\\nfrom subprocess imp...</td>\n",
       "      <td>30</td>\n",
       "      <td>30</td>\n",
       "      <td>Model_Train</td>\n",
       "      <td>load_pretrained</td>\n",
       "    </tr>\n",
       "    <tr>\n",
       "      <th>2</th>\n",
       "      <td>def reduce_mem_usage(df):\\n    \"\"\" iterate thr...</td>\n",
       "      <td>40</td>\n",
       "      <td>40</td>\n",
       "      <td>Debug</td>\n",
       "      <td>show_table_attributes</td>\n",
       "    </tr>\n",
       "    <tr>\n",
       "      <th>3</th>\n",
       "      <td>import numpy as np</td>\n",
       "      <td>22</td>\n",
       "      <td>22</td>\n",
       "      <td>Environment</td>\n",
       "      <td>import_modules</td>\n",
       "    </tr>\n",
       "    <tr>\n",
       "      <th>4</th>\n",
       "      <td>orders_df = reduce_mem_usage(pd.read_csv('../w...</td>\n",
       "      <td>45</td>\n",
       "      <td>45</td>\n",
       "      <td>Data_Extraction</td>\n",
       "      <td>load_from_csv</td>\n",
       "    </tr>\n",
       "  </tbody>\n",
       "</table>\n",
       "</div>"
      ],
      "text/plain": [
       "                                          code_block  \\\n",
       "0  # This Python 3 environment comes with many he...   \n",
       "1  import os\\nimport zipfile\\nfrom subprocess imp...   \n",
       "2  def reduce_mem_usage(df):\\n    \"\"\" iterate thr...   \n",
       "3                                 import numpy as np   \n",
       "4  orders_df = reduce_mem_usage(pd.read_csv('../w...   \n",
       "\n",
       "   predicted_graph_vertex_id  graph_vertex_id graph_vertex_class  \\\n",
       "0                         88               88              Debug   \n",
       "1                         30               30        Model_Train   \n",
       "2                         40               40              Debug   \n",
       "3                         22               22        Environment   \n",
       "4                         45               45    Data_Extraction   \n",
       "\n",
       "   graph_vertex_subclass  \n",
       "0             list_files  \n",
       "1        load_pretrained  \n",
       "2  show_table_attributes  \n",
       "3         import_modules  \n",
       "4          load_from_csv  "
      ]
     },
     "execution_count": 16,
     "metadata": {},
     "output_type": "execute_result"
    }
   ],
   "source": [
    "df_agrupado.head()"
   ]
  },
  {
   "cell_type": "code",
   "execution_count": 8,
   "metadata": {},
   "outputs": [],
   "source": [
    "df_agrupado = df_agrupado[['code_block', 'graph_vertex_subclass']]"
   ]
  },
  {
   "cell_type": "code",
   "execution_count": 9,
   "metadata": {},
   "outputs": [
    {
     "name": "stdout",
     "output_type": "stream",
     "text": [
      "<class 'pandas.core.frame.DataFrame'>\n",
      "RangeIndex: 2599353 entries, 0 to 2599352\n",
      "Data columns (total 2 columns):\n",
      " #   Column                 Dtype \n",
      "---  ------                 ----- \n",
      " 0   code_block             object\n",
      " 1   graph_vertex_subclass  object\n",
      "dtypes: object(2)\n",
      "memory usage: 39.7+ MB\n"
     ]
    }
   ],
   "source": [
    "df_agrupado.info()"
   ]
  },
  {
   "cell_type": "code",
   "execution_count": 10,
   "metadata": {},
   "outputs": [
    {
     "data": {
      "text/html": [
       "<div>\n",
       "<style scoped>\n",
       "    .dataframe tbody tr th:only-of-type {\n",
       "        vertical-align: middle;\n",
       "    }\n",
       "\n",
       "    .dataframe tbody tr th {\n",
       "        vertical-align: top;\n",
       "    }\n",
       "\n",
       "    .dataframe thead th {\n",
       "        text-align: right;\n",
       "    }\n",
       "</style>\n",
       "<table border=\"1\" class=\"dataframe\">\n",
       "  <thead>\n",
       "    <tr style=\"text-align: right;\">\n",
       "      <th></th>\n",
       "      <th>code_block</th>\n",
       "      <th>graph_vertex_subclass</th>\n",
       "    </tr>\n",
       "  </thead>\n",
       "  <tbody>\n",
       "    <tr>\n",
       "      <th>0</th>\n",
       "      <td># This Python 3 environment comes with many he...</td>\n",
       "      <td>list_files</td>\n",
       "    </tr>\n",
       "    <tr>\n",
       "      <th>1</th>\n",
       "      <td>import os\\nimport zipfile\\nfrom subprocess imp...</td>\n",
       "      <td>load_pretrained</td>\n",
       "    </tr>\n",
       "    <tr>\n",
       "      <th>2</th>\n",
       "      <td>def reduce_mem_usage(df):\\n    \"\"\" iterate thr...</td>\n",
       "      <td>show_table_attributes</td>\n",
       "    </tr>\n",
       "    <tr>\n",
       "      <th>3</th>\n",
       "      <td>import numpy as np</td>\n",
       "      <td>import_modules</td>\n",
       "    </tr>\n",
       "    <tr>\n",
       "      <th>4</th>\n",
       "      <td>orders_df = reduce_mem_usage(pd.read_csv('../w...</td>\n",
       "      <td>load_from_csv</td>\n",
       "    </tr>\n",
       "  </tbody>\n",
       "</table>\n",
       "</div>"
      ],
      "text/plain": [
       "                                          code_block  graph_vertex_subclass\n",
       "0  # This Python 3 environment comes with many he...             list_files\n",
       "1  import os\\nimport zipfile\\nfrom subprocess imp...        load_pretrained\n",
       "2  def reduce_mem_usage(df):\\n    \"\"\" iterate thr...  show_table_attributes\n",
       "3                                 import numpy as np         import_modules\n",
       "4  orders_df = reduce_mem_usage(pd.read_csv('../w...          load_from_csv"
      ]
     },
     "execution_count": 10,
     "metadata": {},
     "output_type": "execute_result"
    }
   ],
   "source": [
    "df_agrupado.head()"
   ]
  },
  {
   "cell_type": "code",
   "execution_count": 12,
   "metadata": {},
   "outputs": [
    {
     "name": "stdout",
     "output_type": "stream",
     "text": [
      "['list_files' 'load_pretrained' 'show_table_attributes' 'import_modules'\n",
      " 'load_from_csv' 'define_variables' 'show_shape' 'show_data_types'\n",
      " 'count_values' 'count_unique_values' 'show_table' 'distribution'\n",
      " 'groupby' 'filter' 'merge' 'time_series' 'correct_missing_values'\n",
      " 'count_missing_values' 'concatenate' 'set_options' 'sort_values'\n",
      " 'show_columns' 'categorify' 'statistical_test' 'heatmap' 'drop_column'\n",
      " 'split' 'train_model' 'find_best_params' 'prepare_x_and_y'\n",
      " 'feature_engineering' 'save_to_csv' 'choose_model_class'\n",
      " 'model_coefficients' 'data_type_conversions' 'train_on_grid' 'commented'\n",
      " 'compute_test_metric' 'learning_history' 'normalization'\n",
      " 'create_dataframe' 'predict_on_test' 'compute_train_metric'\n",
      " 'find_best_score' 'plot_predictions' 'define_search_model'\n",
      " 'show_unique_values' 'prepare_output' 'relationship' 'init_hyperparams'\n",
      " 'define_search_space' 'save_model' 'install_modules' 'remove_duplicates'\n",
      " 'string_transform' 'count_duplicates' 'load_from_zip' 'randomize_order'\n",
      " 'rename_columns' 'features_selection' 'find_best_model_class'\n",
      " 'load_from_disk' 'load_from_url' 'missing_values']\n",
      "64\n"
     ]
    }
   ],
   "source": [
    "from sklearn.preprocessing import LabelEncoder\n",
    "\n",
    "label_encoder = LabelEncoder()\n",
    "print(df_agrupado[\"graph_vertex_subclass\"].unique())\n",
    "df_agrupado[\"labels\"] = label_encoder.fit_transform(df_agrupado[\"graph_vertex_subclass\"])\n",
    "print(len(df_agrupado[\"labels\"].unique()))\n",
    "\n",
    "df_labels = pd.DataFrame({'Label_id': df_agrupado[\"labels\"].unique(), 'Label_name': df_agrupado[\"graph_vertex_subclass\"].unique()})\n",
    "df_labels = df_labels.sort_values(by='Label_id', ascending=True)\n",
    "# df_labels.to_csv('labes.csv', index=False)"
   ]
  },
  {
   "cell_type": "code",
   "execution_count": 13,
   "metadata": {},
   "outputs": [],
   "source": [
    "df_agrupado = pd.merge(df_agrupado, df_labels, left_on='graph_vertex_subclass', right_on='Label_name')"
   ]
  },
  {
   "cell_type": "code",
   "execution_count": 14,
   "metadata": {},
   "outputs": [
    {
     "name": "stdout",
     "output_type": "stream",
     "text": [
      "<class 'pandas.core.frame.DataFrame'>\n",
      "RangeIndex: 2599353 entries, 0 to 2599352\n",
      "Data columns (total 5 columns):\n",
      " #   Column                 Dtype \n",
      "---  ------                 ----- \n",
      " 0   code_block             object\n",
      " 1   graph_vertex_subclass  object\n",
      " 2   labels                 int32 \n",
      " 3   Label_id               int32 \n",
      " 4   Label_name             object\n",
      "dtypes: int32(2), object(3)\n",
      "memory usage: 79.3+ MB\n"
     ]
    }
   ],
   "source": [
    "df_agrupado.info()"
   ]
  },
  {
   "cell_type": "code",
   "execution_count": 15,
   "metadata": {},
   "outputs": [
    {
     "data": {
      "text/html": [
       "<div>\n",
       "<style scoped>\n",
       "    .dataframe tbody tr th:only-of-type {\n",
       "        vertical-align: middle;\n",
       "    }\n",
       "\n",
       "    .dataframe tbody tr th {\n",
       "        vertical-align: top;\n",
       "    }\n",
       "\n",
       "    .dataframe thead th {\n",
       "        text-align: right;\n",
       "    }\n",
       "</style>\n",
       "<table border=\"1\" class=\"dataframe\">\n",
       "  <thead>\n",
       "    <tr style=\"text-align: right;\">\n",
       "      <th></th>\n",
       "      <th>code_block</th>\n",
       "      <th>graph_vertex_subclass</th>\n",
       "      <th>labels</th>\n",
       "      <th>Label_id</th>\n",
       "      <th>Label_name</th>\n",
       "    </tr>\n",
       "  </thead>\n",
       "  <tbody>\n",
       "    <tr>\n",
       "      <th>0</th>\n",
       "      <td># This Python 3 environment comes with many he...</td>\n",
       "      <td>list_files</td>\n",
       "      <td>30</td>\n",
       "      <td>30</td>\n",
       "      <td>list_files</td>\n",
       "    </tr>\n",
       "    <tr>\n",
       "      <th>1</th>\n",
       "      <td>import os\\nimport zipfile\\nfrom subprocess imp...</td>\n",
       "      <td>load_pretrained</td>\n",
       "      <td>35</td>\n",
       "      <td>35</td>\n",
       "      <td>load_pretrained</td>\n",
       "    </tr>\n",
       "    <tr>\n",
       "      <th>2</th>\n",
       "      <td>def reduce_mem_usage(df):\\n    \"\"\" iterate thr...</td>\n",
       "      <td>show_table_attributes</td>\n",
       "      <td>55</td>\n",
       "      <td>55</td>\n",
       "      <td>show_table_attributes</td>\n",
       "    </tr>\n",
       "    <tr>\n",
       "      <th>3</th>\n",
       "      <td>import numpy as np</td>\n",
       "      <td>import_modules</td>\n",
       "      <td>26</td>\n",
       "      <td>26</td>\n",
       "      <td>import_modules</td>\n",
       "    </tr>\n",
       "    <tr>\n",
       "      <th>4</th>\n",
       "      <td>orders_df = reduce_mem_usage(pd.read_csv('../w...</td>\n",
       "      <td>load_from_csv</td>\n",
       "      <td>31</td>\n",
       "      <td>31</td>\n",
       "      <td>load_from_csv</td>\n",
       "    </tr>\n",
       "  </tbody>\n",
       "</table>\n",
       "</div>"
      ],
      "text/plain": [
       "                                          code_block  graph_vertex_subclass  \\\n",
       "0  # This Python 3 environment comes with many he...             list_files   \n",
       "1  import os\\nimport zipfile\\nfrom subprocess imp...        load_pretrained   \n",
       "2  def reduce_mem_usage(df):\\n    \"\"\" iterate thr...  show_table_attributes   \n",
       "3                                 import numpy as np         import_modules   \n",
       "4  orders_df = reduce_mem_usage(pd.read_csv('../w...          load_from_csv   \n",
       "\n",
       "   labels  Label_id             Label_name  \n",
       "0      30        30             list_files  \n",
       "1      35        35        load_pretrained  \n",
       "2      55        55  show_table_attributes  \n",
       "3      26        26         import_modules  \n",
       "4      31        31          load_from_csv  "
      ]
     },
     "execution_count": 15,
     "metadata": {},
     "output_type": "execute_result"
    }
   ],
   "source": [
    "df_agrupado.head()"
   ]
  },
  {
   "cell_type": "code",
   "execution_count": 19,
   "metadata": {},
   "outputs": [],
   "source": [
    "df_agrupado = df_agrupado[['code_block', 'Label_id']]"
   ]
  },
  {
   "cell_type": "code",
   "execution_count": 16,
   "metadata": {},
   "outputs": [],
   "source": [
    "df_agrupado = df_agrupado[['code_block', 'Label_name']]"
   ]
  },
  {
   "cell_type": "code",
   "execution_count": 17,
   "metadata": {},
   "outputs": [
    {
     "name": "stdout",
     "output_type": "stream",
     "text": [
      "<class 'pandas.core.frame.DataFrame'>\n",
      "RangeIndex: 2599353 entries, 0 to 2599352\n",
      "Data columns (total 2 columns):\n",
      " #   Column      Dtype \n",
      "---  ------      ----- \n",
      " 0   code_block  object\n",
      " 1   Label_name  object\n",
      "dtypes: object(2)\n",
      "memory usage: 39.7+ MB\n"
     ]
    }
   ],
   "source": [
    "df_agrupado.info()"
   ]
  },
  {
   "cell_type": "code",
   "execution_count": 19,
   "metadata": {},
   "outputs": [
    {
     "data": {
      "text/html": [
       "<div>\n",
       "<style scoped>\n",
       "    .dataframe tbody tr th:only-of-type {\n",
       "        vertical-align: middle;\n",
       "    }\n",
       "\n",
       "    .dataframe tbody tr th {\n",
       "        vertical-align: top;\n",
       "    }\n",
       "\n",
       "    .dataframe thead th {\n",
       "        text-align: right;\n",
       "    }\n",
       "</style>\n",
       "<table border=\"1\" class=\"dataframe\">\n",
       "  <thead>\n",
       "    <tr style=\"text-align: right;\">\n",
       "      <th></th>\n",
       "      <th>code_block</th>\n",
       "      <th>Label_name</th>\n",
       "    </tr>\n",
       "  </thead>\n",
       "  <tbody>\n",
       "    <tr>\n",
       "      <th>0</th>\n",
       "      <td># This Python 3 environment comes with many he...</td>\n",
       "      <td>list_files</td>\n",
       "    </tr>\n",
       "    <tr>\n",
       "      <th>1</th>\n",
       "      <td>import os\\nimport zipfile\\nfrom subprocess imp...</td>\n",
       "      <td>load_pretrained</td>\n",
       "    </tr>\n",
       "    <tr>\n",
       "      <th>2</th>\n",
       "      <td>def reduce_mem_usage(df):\\n    \"\"\" iterate thr...</td>\n",
       "      <td>show_table_attributes</td>\n",
       "    </tr>\n",
       "    <tr>\n",
       "      <th>3</th>\n",
       "      <td>import numpy as np</td>\n",
       "      <td>import_modules</td>\n",
       "    </tr>\n",
       "    <tr>\n",
       "      <th>4</th>\n",
       "      <td>orders_df = reduce_mem_usage(pd.read_csv('../w...</td>\n",
       "      <td>load_from_csv</td>\n",
       "    </tr>\n",
       "  </tbody>\n",
       "</table>\n",
       "</div>"
      ],
      "text/plain": [
       "                                          code_block             Label_name\n",
       "0  # This Python 3 environment comes with many he...             list_files\n",
       "1  import os\\nimport zipfile\\nfrom subprocess imp...        load_pretrained\n",
       "2  def reduce_mem_usage(df):\\n    \"\"\" iterate thr...  show_table_attributes\n",
       "3                                 import numpy as np         import_modules\n",
       "4  orders_df = reduce_mem_usage(pd.read_csv('../w...          load_from_csv"
      ]
     },
     "execution_count": 19,
     "metadata": {},
     "output_type": "execute_result"
    }
   ],
   "source": [
    "df_agrupado.head()"
   ]
  },
  {
   "cell_type": "code",
   "execution_count": 18,
   "metadata": {},
   "outputs": [],
   "source": [
    "df_agrupado.to_csv('data2.csv')"
   ]
  },
  {
   "cell_type": "code",
   "execution_count": 2,
   "metadata": {},
   "outputs": [
    {
     "name": "stdout",
     "output_type": "stream",
     "text": [
      "<class 'pandas.core.frame.DataFrame'>\n",
      "RangeIndex: 9984 entries, 0 to 9983\n",
      "Data columns (total 2 columns):\n",
      " #   Column      Non-Null Count  Dtype \n",
      "---  ------      --------------  ----- \n",
      " 0   code_block  9776 non-null   object\n",
      " 1   Label_name  9984 non-null   object\n",
      "dtypes: object(2)\n",
      "memory usage: 156.1+ KB\n"
     ]
    }
   ],
   "source": [
    "dataset = pd.read_csv(\"C:/Users/User/TP1/Data2/archivo_260.csv\")\n",
    "dataset.info()"
   ]
  },
  {
   "cell_type": "code",
   "execution_count": 2,
   "metadata": {},
   "outputs": [],
   "source": [
    "def eliminar_comentarios_python(texto):\n",
    "    texto = re.sub(r'#.*', '', texto)\n",
    "    texto = re.sub(r'(\\'\\'\\'(.*?)\\'\\'\\'|\\\"\\\"\\\"(.*?)\\\"\\\"\\\")', '', texto, flags=re.DOTALL)\n",
    "    texto = texto.lstrip('\\n')\n",
    "    texto = re.sub(r'\\n+', '\\n', texto)\n",
    "    return texto"
   ]
  },
  {
   "cell_type": "code",
   "execution_count": 4,
   "metadata": {},
   "outputs": [
    {
     "name": "stderr",
     "output_type": "stream",
     "text": [
      "C:\\Users\\User\\AppData\\Local\\Temp\\ipykernel_6288\\2365730629.py:11: SettingWithCopyWarning: \n",
      "A value is trying to be set on a copy of a slice from a DataFrame.\n",
      "Try using .loc[row_indexer,col_indexer] = value instead\n",
      "\n",
      "See the caveats in the documentation: https://pandas.pydata.org/pandas-docs/stable/user_guide/indexing.html#returning-a-view-versus-a-copy\n",
      "  df_segmento['code_block'] = df_segmento['code_block'].apply(eliminar_comentarios_python)\n"
     ]
    },
    {
     "data": {
      "text/plain": [
       "'C:/Users/User/TP1/Data/Dato_Bloques\\\\Label 0.csv'"
      ]
     },
     "execution_count": 4,
     "metadata": {},
     "output_type": "execute_result"
    }
   ],
   "source": [
    "label = 0\n",
    "dataset = pd.read_csv(f\"Dato_Bloques/Label {label}/Label {label}.csv\")\n",
    "\n",
    "registros_por_csv = 10000\n",
    "\n",
    "for i in range(int(len(dataset)/registros_por_csv)+1):\n",
    "    inicio = i * registros_por_csv\n",
    "    fin = (i + 1) * registros_por_csv\n",
    "    df_segmento = dataset.iloc[inicio:fin]\n",
    "    \n",
    "    df_segmento['code_block'] = df_segmento['code_block'].apply(eliminar_comentarios_python)\n",
    "    ruta_carpeta = os.path.join(f\"C:/Users/User/TP1/Data/Dato_Bloques/Label {label}\", f'archivo_{i+1}.csv')\n",
    "    df_segmento['code_block'].to_csv(ruta_carpeta, index=False)\n",
    "\n",
    "shutil.move(os.path.join(f\"Dato_Bloques/Label {label}\", f\"Label {label}.csv\"), f\"C:/Users/User/TP1/Data/Dato_Bloques\")"
   ]
  },
  {
   "cell_type": "code",
   "execution_count": 29,
   "metadata": {},
   "outputs": [],
   "source": [
    "import numpy as np\n",
    "archivos = [archivo for archivo in os.listdir(f\"Dato_Bloques/Label {label}\") if archivo.endswith('.csv')]\n",
    "\n",
    "for archivo in archivos:\n",
    "    # with open(f\"Dato_Bloques/Label {label}/{archivo}\", 'r', encoding='utf-8') as f_csv:\n",
    "        dataset = pd.read_csv(f\"Dato_Bloques/Label {label}/{archivo}\")\n",
    "        with open(f\"Dato_Bloques/Label {label}/{archivo}.txt\", 'w', encoding='utf-8') as f_txt:\n",
    "            for i in range(len(dataset)):\n",
    "                if str(dataset['code_block'][i])!=np.nan:\n",
    "                    txt = str(dataset['code_block'][i])\n",
    "                    f_txt.write(txt + '\\n' + '\\n' + '\\n'+ '\\n'+ '\\n')\n",
    "        os.remove(f\"Dato_Bloques/Label {label}/{archivo}\")"
   ]
  },
  {
   "cell_type": "code",
   "execution_count": 16,
   "metadata": {},
   "outputs": [
    {
     "name": "stdout",
     "output_type": "stream",
     "text": [
      "                                             code_block  \\\n",
      "0     import pandas as pd\\ndummies_df = pd.get_dummi...   \n",
      "1     class CNN(nn.Module):\\n    def __init__(self):...   \n",
      "2     class Conv2d():\\n    \\n    \\n    def __init__(...   \n",
      "3     class Network:\\n    \\n    def __init__(self, i...   \n",
      "4     train_dataset = datasets.MNIST(\\n    root='./m...   \n",
      "...                                                 ...   \n",
      "9993  y_train_multi = np.empty(y_train.shape, dtype=...   \n",
      "9994  def crop_white(image: np.ndarray) -> np.ndarra...   \n",
      "9995  def crop_white_with_mask(image: np.ndarray, ma...   \n",
      "9996  with Pool(processes=4) as pool:\\n    has_mask ...   \n",
      "9997  def min_max_mask_coordinates(mask, axis=1):\\n ...   \n",
      "\n",
      "                                                 promts  \n",
      "0     import pandas as pd\\ndummies_df = pd.get_dummi...  \n",
      "1     class CNN(nn.Module):\\n    def __init__(self):...  \n",
      "2     class Conv2d():\\n    \\n    \\n    def __init__(...  \n",
      "3     class Network:\\n    \\n    def __init__(self, i...  \n",
      "4     train_dataset = datasets.MNIST(\\n    root='./m...  \n",
      "...                                                 ...  \n",
      "9993  y_train_multi = np.empty(y_train.shape, dtype=...  \n",
      "9994  def crop_white(image: np.ndarray) -> np.ndarra...  \n",
      "9995  def crop_white_with_mask(image: np.ndarray, ma...  \n",
      "9996  with Pool(processes=4) as pool:\\n    has_mask ...  \n",
      "9997  def min_max_mask_coordinates(mask, axis=1):\\n ...  \n",
      "\n",
      "[9879 rows x 2 columns]\n"
     ]
    }
   ],
   "source": [
    "df = pd.read_csv('Dato_Bloques/Label 0/archivo_1.csv')\n",
    "\n",
    "def primeras_ocho_palabras(texto):\n",
    "    if isinstance(texto, str):\n",
    "        palabras = []\n",
    "        palabra_actual = ''\n",
    "        contador_palabras = 0\n",
    "        for char in texto:\n",
    "            if char.isspace():\n",
    "                if palabra_actual:\n",
    "                    palabras.append(palabra_actual)\n",
    "                    palabra_actual = ''\n",
    "                    contador_palabras += 1\n",
    "                    if contador_palabras == 8:\n",
    "                        break\n",
    "                palabras.append(char)\n",
    "            else:\n",
    "                palabra_actual += char\n",
    "        \n",
    "        if palabra_actual and contador_palabras < 8:\n",
    "            palabras.append(palabra_actual)\n",
    "        \n",
    "        return ''.join(palabras)\n",
    "    else:\n",
    "        return ''\n",
    "\n",
    "df['promts'] = df['code_block'].apply(primeras_ocho_palabras)\n",
    "df = df.dropna(subset=['code_block'])\n",
    "df.to_csv('Dato_Bloques/Label 0/archivo_1_promts.csv', index=False)\n",
    "\n",
    "# Mostrar el DataFrame resultante (opcional)\n",
    "print(df)"
   ]
  },
  {
   "cell_type": "code",
   "execution_count": null,
   "metadata": {},
   "outputs": [],
   "source": [
    "grupos = df_agrupado.groupby('Label_id')\n",
    "tablas_por_label = {label: grupo for label, grupo in grupos}\n",
    "directorio_archivos = \"C:/Users/User/TP1/Data/Dato_Bloques\"\n",
    "\n",
    "for label, tabla in tablas_por_label.items():\n",
    "    nombre_archivo = f\"Label {label}.csv\"\n",
    "    ruta_carpeta = os.path.join(directorio_archivos, nombre_archivo)\n",
    "    tabla.to_csv(ruta_carpeta, index=False)\n",
    "\n",
    "    nombre_carpeta = f'Label {label}' \n",
    "    ruta_carpeta_bloque = os.path.join(directorio_archivos, nombre_carpeta)\n",
    "    \n",
    "    if not os.path.exists(ruta_carpeta_bloque):\n",
    "        os.makedirs(ruta_carpeta_bloque)\n",
    "    \n",
    "    archivos_csv = [archivo for archivo in os.listdir(directorio_archivos) if archivo.endswith('.csv')]\n",
    "    \n",
    "    for archivos_csv in archivos_csv:\n",
    "        shutil.move(os.path.join(directorio_archivos, archivos_csv), ruta_carpeta_bloque)\n",
    "\n",
    "print(\"Archivos guardados exitosamente.\")"
   ]
  },
  {
   "cell_type": "code",
   "execution_count": 38,
   "metadata": {},
   "outputs": [
    {
     "name": "stdout",
     "output_type": "stream",
     "text": [
      "<class 'pandas.core.frame.DataFrame'>\n",
      "RangeIndex: 96282 entries, 0 to 96281\n",
      "Data columns (total 2 columns):\n",
      " #   Column      Non-Null Count  Dtype \n",
      "---  ------      --------------  ----- \n",
      " 0   code_block  96282 non-null  object\n",
      " 1   Label_id    96282 non-null  int64 \n",
      "dtypes: int64(1), object(1)\n",
      "memory usage: 1.5+ MB\n"
     ]
    }
   ],
   "source": [
    "num = 0\n",
    "aux= pd.read_csv(f'C:/Users/User/TP1/Data/Dato_Bloques/Label {num}/Label {num}.csv')\n",
    "aux.info()"
   ]
  },
  {
   "cell_type": "code",
   "execution_count": 46,
   "metadata": {},
   "outputs": [
    {
     "name": "stdout",
     "output_type": "stream",
     "text": [
      "Archivos guardados exitosamente.\n"
     ]
    }
   ],
   "source": [
    "num = 0\n",
    "aux = pd.read_csv(f'C:/Users/User/TP1/Data/Dato_Bloques/Label {num}/Label {num}.csv')\n",
    "tamanio_segmento = 10000\n",
    "directorio_archivos = f\"C:/Users/User/TP1/Data/Dato_Bloques/Label {num}\"\n",
    "\n",
    "for i in range(int(len(aux)/tamanio_segmento)+1):\n",
    "    inicio = i * tamanio_segmento\n",
    "    fin = (i + 1) * tamanio_segmento\n",
    "    df_segmento = aux.iloc[inicio:fin]\n",
    "    nombre_archivo = f'Code.csv'\n",
    "    ruta_carpeta = os.path.join(directorio_archivos, nombre_archivo)\n",
    "    df_segmento = df_segmento[\"code_block\"]\n",
    "    df_segmento.to_csv(ruta_carpeta, index=False)\n",
    "\n",
    "    nombre_carpeta = f'Bloque {i+1}' \n",
    "    ruta_carpeta_bloque = os.path.join(directorio_archivos, nombre_carpeta)\n",
    "    \n",
    "    if not os.path.exists(ruta_carpeta_bloque):\n",
    "        os.makedirs(ruta_carpeta_bloque)\n",
    "    \n",
    "    archivos_csv = [archivo for archivo in os.listdir(directorio_archivos) if archivo.endswith('.csv')]\n",
    "    \n",
    "    for archivos_csv in archivos_csv:\n",
    "        shutil.move(os.path.join(directorio_archivos, archivos_csv), ruta_carpeta_bloque)\n",
    "\n",
    "print(\"Archivos guardados exitosamente.\")"
   ]
  },
  {
   "cell_type": "code",
   "execution_count": 23,
   "metadata": {},
   "outputs": [],
   "source": [
    "def txtfilt(txt,txtfilted):\n",
    "    with open(txt, 'r', encoding='utf-8') as file:\n",
    "        lineas = file.readlines()\n",
    "        lineas_filtradas = [linea.split('#')[0] + '\\n' if '#' in linea else linea for linea in lineas]\n",
    "        contenido = ''.join(lineas_filtradas)\n",
    "\n",
    "    contenido = contenido.lstrip('\\n')\n",
    "\n",
    "    while contenido.startswith('\\n'):\n",
    "        contenido = contenido[1:]\n",
    "\n",
    "    with open(txtfilted, 'w', encoding='utf-8') as file:\n",
    "        file.writelines(contenido)"
   ]
  },
  {
   "cell_type": "code",
   "execution_count": 24,
   "metadata": {},
   "outputs": [],
   "source": [
    "num = 0\n",
    "Bloque = 1\n",
    "cvs = \"Code\"\n",
    "tamano_data = pd.read_csv(f\"C:/Users/User/TP1/Data/Dato_Bloques/Label {num}/Bloque {Bloque}/{cvs}.csv\")\n",
    "directorio_destino = f\"C:/Users/User/TP1/Data/Dato_Bloques/Label {num}/Bloque {Bloque}\"\n",
    "\n",
    "for i in range(len(tamano_data)):\n",
    "    data = tamano_data['code_block'][i]\n",
    "    nombre_archivo = f\"{i+1}.txt\"\n",
    "    ruta_archivo = os.path.join(directorio_destino, nombre_archivo)\n",
    "\n",
    "    with open(ruta_archivo, 'w', encoding='utf-8') as archivo:\n",
    "        archivo.write(data)\n",
    "\n",
    "    txtfilt(ruta_archivo,ruta_archivo)"
   ]
  },
  {
   "cell_type": "code",
   "execution_count": 25,
   "metadata": {},
   "outputs": [],
   "source": [
    "def contar_caracteres(archivo):\n",
    "    with open(archivo, 'r', encoding='utf-8') as file:\n",
    "        text = file.read()\n",
    "    \n",
    "    word_count = len(text.split())\n",
    "    return word_count\n",
    "\n",
    "num = 0\n",
    "Bloque = 1\n",
    "directorio_destino = f\"C:/Users/User/TP1/Data/Dato_Bloques/Label {num}/Bloque {Bloque}\"\n",
    "archivos = [archivo for archivo in os.listdir(directorio_destino)]\n",
    "for archivo in archivos:\n",
    "    if contar_caracteres(f\"{directorio_destino}/{archivo}\") == 0:\n",
    "        os.remove(f\"{directorio_destino}/{archivo}\")"
   ]
  },
  {
   "cell_type": "code",
   "execution_count": 4,
   "metadata": {},
   "outputs": [],
   "source": [
    "num = 0\n",
    "Bloque = 2\n",
    "cvs = \"Code\"\n",
    "tamano_data = pd.read_csv(f\"C:/Users/User/TP1/Data/Dato_Bloques/Label {num}/Bloque {Bloque}/{cvs}.csv\")\n",
    "directorio_destino = f\"C:/Users/User/TP1/Data/Dato_Bloques/Label {num}/Bloque {Bloque}\"\n",
    "directorio_destino_code = f\"C:/Users/User/TP1/Data/Dato_Bloques/Label {num}/Bloque {Bloque}/Code\"\n",
    "aux = 0\n",
    "\n",
    "for i in range(len(tamano_data)):\n",
    "    data = tamano_data['code_block'][i]\n",
    "    nombre_archivo = f\"{i+1}.txt\"\n",
    "    ruta_archivo = os.path.join(directorio_destino, nombre_archivo)\n",
    "\n",
    "    with open(ruta_archivo, 'w', encoding='utf-8') as archivo:\n",
    "        archivo.write(data)\n",
    "\n",
    "    txtfilt(ruta_archivo,ruta_archivo)\n",
    "    \n",
    "    aux += 1 \n",
    "\n",
    "    if aux == 1000:\n",
    "        nombre_carpeta = f'Epoch {i - 998} - {i + 1}' \n",
    "        ruta_carpeta_raw = os.path.join(directorio_destino_code, nombre_carpeta)\n",
    "    \n",
    "        if not os.path.exists(ruta_carpeta_raw):\n",
    "            os.makedirs(ruta_carpeta_raw)\n",
    "\n",
    "        archivos_txt = [archivo for archivo in os.listdir(directorio_destino) if archivo.endswith('.txt')]\n",
    "        \n",
    "        for archivos_txt in archivos_txt:\n",
    "            shutil.move(os.path.join(directorio_destino, archivos_txt), ruta_carpeta_raw)\n",
    "\n",
    "        aux = 0"
   ]
  }
 ],
 "metadata": {
  "kernelspec": {
   "display_name": "Python 3",
   "language": "python",
   "name": "python3"
  },
  "language_info": {
   "codemirror_mode": {
    "name": "ipython",
    "version": 3
   },
   "file_extension": ".py",
   "mimetype": "text/x-python",
   "name": "python",
   "nbconvert_exporter": "python",
   "pygments_lexer": "ipython3",
   "version": "3.11.4"
  }
 },
 "nbformat": 4,
 "nbformat_minor": 2
}

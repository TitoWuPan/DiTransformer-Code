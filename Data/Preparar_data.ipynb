{
 "cells": [
  {
   "cell_type": "code",
   "execution_count": 1,
   "metadata": {},
   "outputs": [],
   "source": [
    "import pandas as pd\n",
    "import os\n",
    "import shutil"
   ]
  },
  {
   "cell_type": "code",
   "execution_count": 2,
   "metadata": {},
   "outputs": [],
   "source": [
    "df = pd.read_csv('code_blocks.csv')"
   ]
  },
  {
   "cell_type": "code",
   "execution_count": 13,
   "metadata": {},
   "outputs": [],
   "source": [
    "df_agrupado = df.groupby('kernel_id')['code_block'].apply('\\n'.join).reset_index()"
   ]
  },
  {
   "cell_type": "code",
   "execution_count": 14,
   "metadata": {},
   "outputs": [
    {
     "name": "stdout",
     "output_type": "stream",
     "text": [
      "<class 'pandas.core.frame.DataFrame'>\n",
      "RangeIndex: 107522 entries, 0 to 107521\n",
      "Data columns (total 2 columns):\n",
      " #   Column      Non-Null Count   Dtype \n",
      "---  ------      --------------   ----- \n",
      " 0   kernel_id   107522 non-null  int64 \n",
      " 1   code_block  107522 non-null  object\n",
      "dtypes: int64(1), object(1)\n",
      "memory usage: 1.6+ MB\n"
     ]
    }
   ],
   "source": [
    "df_agrupado.info()"
   ]
  },
  {
   "cell_type": "code",
   "execution_count": 15,
   "metadata": {},
   "outputs": [],
   "source": [
    "df_agrupado = df_agrupado[\"code_block\"]"
   ]
  },
  {
   "cell_type": "code",
   "execution_count": 20,
   "metadata": {},
   "outputs": [
    {
     "name": "stdout",
     "output_type": "stream",
     "text": [
      "0\n"
     ]
    }
   ],
   "source": [
    "count_empty_rows = len(df_agrupado[(df_agrupado == \"\")])\n",
    "print(count_empty_rows)"
   ]
  },
  {
   "cell_type": "code",
   "execution_count": null,
   "metadata": {},
   "outputs": [],
   "source": [
    "df_agrupado.to_csv('test.csv', index=False)"
   ]
  },
  {
   "cell_type": "code",
   "execution_count": null,
   "metadata": {},
   "outputs": [
    {
     "data": {
      "text/plain": [
       "0    #!/usr/bin/env python\\nimport time\\nimport tim...\n",
       "1                       import pandas as pd\\nprint (1)\n",
       "2    import pandas as pd\\nimport numpy as np\\nimpor...\n",
       "3    #!/usr/bin/env python\\nimport time\\nimport tim...\n",
       "4    import pandas as pd\\nfrom pandas.core.common i...\n",
       "Name: code_block, dtype: object"
      ]
     },
     "execution_count": 6,
     "metadata": {},
     "output_type": "execute_result"
    }
   ],
   "source": [
    "df_agrupado.head()"
   ]
  },
  {
   "cell_type": "code",
   "execution_count": null,
   "metadata": {},
   "outputs": [
    {
     "name": "stdout",
     "output_type": "stream",
     "text": [
      "Archivos guardados exitosamente.\n"
     ]
    }
   ],
   "source": [
    "aux = df_agrupado\n",
    "tamanio_segmento = 1000\n",
    "directorio_archivos = \"C:/Users/User/DiTransformer-Code/Data/Dato_Bloques\"\n",
    "\n",
    "for i in range(int(len(df_agrupado)/tamanio_segmento)+1):\n",
    "    inicio = i * tamanio_segmento\n",
    "    fin = (i + 1) * tamanio_segmento\n",
    "    df_segmento = aux.iloc[inicio:fin]\n",
    "    nombre_archivo = f'Code {inicio} - {fin}.csv'\n",
    "    ruta_carpeta = os.path.join(directorio_archivos, nombre_archivo)\n",
    "    df_segmento.to_csv(ruta_carpeta, index=False)\n",
    "\n",
    "    nombre_carpeta = f'Bloque {i+1}' \n",
    "    ruta_carpeta_bloque = os.path.join(directorio_archivos, nombre_carpeta)\n",
    "    \n",
    "    if not os.path.exists(ruta_carpeta_bloque):\n",
    "        os.makedirs(ruta_carpeta_bloque)\n",
    "    \n",
    "    archivos_csv = [archivo for archivo in os.listdir(directorio_archivos) if archivo.endswith('.csv')]\n",
    "    \n",
    "    for archivos_csv in archivos_csv:\n",
    "        shutil.move(os.path.join(directorio_archivos, archivos_csv), ruta_carpeta_bloque)\n",
    "\n",
    "print(\"Archivos guardados exitosamente.\")"
   ]
  },
  {
   "cell_type": "code",
   "execution_count": null,
   "metadata": {},
   "outputs": [],
   "source": [
    "def txtfilt(txt,txtfilted):\n",
    "    with open(txt, 'r', encoding='utf-8') as file:\n",
    "        lineas = file.readlines()\n",
    "\n",
    "    lineas_filtradas = [linea.split('#')[0] + '\\n' if '#' in linea else linea for linea in lineas]\n",
    "    # lineas_filtradas_espacio = [linea for linea in lineas_filtradas if not linea.startswith('\\n')]\n",
    "\n",
    "    with open(txtfilted, 'w', encoding='utf-8') as file:\n",
    "        file.writelines(lineas_filtradas)"
   ]
  },
  {
   "cell_type": "code",
   "execution_count": null,
   "metadata": {},
   "outputs": [],
   "source": [
    "Bloque = 2\n",
    "cvs = \"Code 1000 - 2000\"\n",
    "tamano_data = pd.read_csv(f\"C:/Users/User/DiTransformer-Code/Data/Dato_Bloques/Bloque {Bloque}/{cvs}.cvs\")\n",
    "directorio_destino = f\"C:/Users/User/DiTransformer-Code/Data/Dato_Bloques/Bloque {Bloque}\"\n",
    "directorio_destino_code = f\"C:/Users/User/DiTransformer-Code/Data/Dato_Bloques/Bloque {Bloque}/Code\"\n",
    "epoch = 100\n",
    "aux = 0\n",
    "\n",
    "for i in range(len(tamano_data)):\n",
    "    data = tamano_data['code_block'][i]\n",
    "    nombre_archivo = f\"{i+1}.txt\"\n",
    "    ruta_archivo = os.path.join(directorio_destino, nombre_archivo)\n",
    "\n",
    "    with open(ruta_archivo, 'w', encoding='utf-8') as archivo:\n",
    "        archivo.write(data)\n",
    "\n",
    "    txtfilt(ruta_archivo,ruta_archivo)\n",
    "    \n",
    "    aux += 1 \n",
    "\n",
    "    if aux == 100:\n",
    "        nombre_carpeta = f'Epoch {i - 98} - {i + 1}' \n",
    "        ruta_carpeta_raw = os.path.join(directorio_destino_code, nombre_carpeta)\n",
    "    \n",
    "        if not os.path.exists(ruta_carpeta_raw):\n",
    "            os.makedirs(ruta_carpeta_raw)\n",
    "\n",
    "        archivos_txt = [archivo for archivo in os.listdir(directorio_destino) if archivo.endswith('.txt')]\n",
    "        \n",
    "        for archivos_txt in archivos_txt:\n",
    "            shutil.move(os.path.join(directorio_destino, archivos_txt), ruta_carpeta_raw)\n",
    "\n",
    "        aux = 0"
   ]
  }
 ],
 "metadata": {
  "kernelspec": {
   "display_name": "Python 3",
   "language": "python",
   "name": "python3"
  },
  "language_info": {
   "codemirror_mode": {
    "name": "ipython",
    "version": 3
   },
   "file_extension": ".py",
   "mimetype": "text/x-python",
   "name": "python",
   "nbconvert_exporter": "python",
   "pygments_lexer": "ipython3",
   "version": "3.11.4"
  }
 },
 "nbformat": 4,
 "nbformat_minor": 2
}
